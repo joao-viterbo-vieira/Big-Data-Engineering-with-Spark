{
 "cells": [
  {
   "cell_type": "code",
   "execution_count": 1,
   "id": "284d96ac-0a0e-4ba3-823b-a45d5756457d",
   "metadata": {},
   "outputs": [],
   "source": [
    "#inicializar a sessao spark\n",
    "\n",
    "from pyspark import SparkContext, SparkConf\n",
    "from pyspark.sql import SparkSession\n",
    "\n",
    "spark = SparkSession \\\n",
    "    .builder \\\n",
    "    .master(\"local\") \\\n",
    "    .config(\"spark.ui.port\", \"4041\") \\\n",
    "    .getOrCreate()"
   ]
  },
  {
   "cell_type": "code",
   "execution_count": 2,
   "id": "32a33d61-d630-481d-a199-fd8dc828af39",
   "metadata": {},
   "outputs": [
    {
     "name": "stdout",
     "output_type": "stream",
     "text": [
      "<pyarrow._parquet.ParquetSchema object at 0x7f762a901540>\n",
      "required group field_id=-1 schema {\n",
      "  optional int32 field_id=-1 VendorID;\n",
      "  optional int64 field_id=-1 tpep_pickup_datetime (Timestamp(isAdjustedToUTC=false, timeUnit=microseconds, is_from_converted_type=false, force_set_converted_type=false));\n",
      "  optional int64 field_id=-1 tpep_dropoff_datetime (Timestamp(isAdjustedToUTC=false, timeUnit=microseconds, is_from_converted_type=false, force_set_converted_type=false));\n",
      "  optional int64 field_id=-1 passenger_count;\n",
      "  optional double field_id=-1 trip_distance;\n",
      "  optional int64 field_id=-1 RatecodeID;\n",
      "  optional binary field_id=-1 store_and_fwd_flag (String);\n",
      "  optional int32 field_id=-1 PULocationID;\n",
      "  optional int32 field_id=-1 DOLocationID;\n",
      "  optional int64 field_id=-1 payment_type;\n",
      "  optional double field_id=-1 fare_amount;\n",
      "  optional double field_id=-1 extra;\n",
      "  optional double field_id=-1 mta_tax;\n",
      "  optional double field_id=-1 tip_amount;\n",
      "  optional double field_id=-1 tolls_amount;\n",
      "  optional double field_id=-1 improvement_surcharge;\n",
      "  optional double field_id=-1 total_amount;\n",
      "  optional double field_id=-1 congestion_surcharge;\n",
      "  optional double field_id=-1 Airport_fee;\n",
      "}\n",
      "\n"
     ]
    }
   ],
   "source": [
    "# preview data\n",
    "\n",
    "import pyarrow.parquet as pq\n",
    "\n",
    "# Load the Parquet file metadata\n",
    "parquet_file = pq.ParquetFile('yellow_tripdata_2025-01.parquet')\n",
    "\n",
    "# Print schema (column names and types)\n",
    "print(parquet_file.schema)"
   ]
  },
  {
   "cell_type": "code",
   "execution_count": 3,
   "id": "7c929917-9fdc-4d8e-b5c8-d89b227ee28e",
   "metadata": {},
   "outputs": [
    {
     "name": "stdout",
     "output_type": "stream",
     "text": [
      "   VendorID tpep_pickup_datetime tpep_dropoff_datetime  passenger_count  \\\n",
      "0         1  2025-01-01 00:18:38   2025-01-01 00:26:59              1.0   \n",
      "1         1  2025-01-01 00:32:40   2025-01-01 00:35:13              1.0   \n",
      "2         1  2025-01-01 00:44:04   2025-01-01 00:46:01              1.0   \n",
      "3         2  2025-01-01 00:14:27   2025-01-01 00:20:01              3.0   \n",
      "4         2  2025-01-01 00:21:34   2025-01-01 00:25:06              3.0   \n",
      "\n",
      "   trip_distance  RatecodeID store_and_fwd_flag  PULocationID  DOLocationID  \\\n",
      "0           1.60         1.0                  N           229           237   \n",
      "1           0.50         1.0                  N           236           237   \n",
      "2           0.60         1.0                  N           141           141   \n",
      "3           0.52         1.0                  N           244           244   \n",
      "4           0.66         1.0                  N           244           116   \n",
      "\n",
      "   payment_type  fare_amount  extra  mta_tax  tip_amount  tolls_amount  \\\n",
      "0             1         10.0    3.5      0.5        3.00           0.0   \n",
      "1             1          5.1    3.5      0.5        2.02           0.0   \n",
      "2             1          5.1    3.5      0.5        2.00           0.0   \n",
      "3             2          7.2    1.0      0.5        0.00           0.0   \n",
      "4             2          5.8    1.0      0.5        0.00           0.0   \n",
      "\n",
      "   improvement_surcharge  total_amount  congestion_surcharge  Airport_fee  \n",
      "0                    1.0         18.00                   2.5          0.0  \n",
      "1                    1.0         12.12                   2.5          0.0  \n",
      "2                    1.0         12.10                   2.5          0.0  \n",
      "3                    1.0          9.70                   0.0          0.0  \n",
      "4                    1.0          8.30                   0.0          0.0  \n"
     ]
    }
   ],
   "source": [
    "import pandas as pd\n",
    "\n",
    "# Example with pyarrow or fastparquet (it will choose the engine automatically if both are available)\n",
    "df_o = pd.read_parquet('yellow_tripdata_2025-01.parquet')\n",
    "\n",
    "# If you want to explicitly specify the engine:\n",
    "# df = pd.read_parquet('your_file.parquet', engine='pyarrow')\n",
    "# df = pd.read_parquet('your_file.parquet', engine='fastparquet')\n",
    "\n",
    "print(df_o.head())\n"
   ]
  },
  {
   "cell_type": "code",
   "execution_count": 12,
   "id": "2d578a00-2c96-4d40-89d9-75d4abe08af0",
   "metadata": {},
   "outputs": [
    {
     "name": "stdout",
     "output_type": "stream",
     "text": [
      "root\n",
      " |-- VendorID: integer (nullable = true)\n",
      " |-- tpep_pickup_datetime: timestamp_ntz (nullable = true)\n",
      " |-- tpep_dropoff_datetime: timestamp_ntz (nullable = true)\n",
      " |-- passenger_count: long (nullable = true)\n",
      " |-- trip_distance: double (nullable = true)\n",
      " |-- RatecodeID: long (nullable = true)\n",
      " |-- store_and_fwd_flag: string (nullable = true)\n",
      " |-- PULocationID: integer (nullable = true)\n",
      " |-- DOLocationID: integer (nullable = true)\n",
      " |-- payment_type: long (nullable = true)\n",
      " |-- fare_amount: double (nullable = true)\n",
      " |-- extra: double (nullable = true)\n",
      " |-- mta_tax: double (nullable = true)\n",
      " |-- tip_amount: double (nullable = true)\n",
      " |-- tolls_amount: double (nullable = true)\n",
      " |-- improvement_surcharge: double (nullable = true)\n",
      " |-- total_amount: double (nullable = true)\n",
      " |-- congestion_surcharge: double (nullable = true)\n",
      " |-- Airport_fee: double (nullable = true)\n",
      "\n",
      "+--------+--------------------+---------------------+---------------+-------------+----------+------------------+------------+------------+------------+-----------+-----+-------+----------+------------+---------------------+------------+--------------------+-----------+\n",
      "|VendorID|tpep_pickup_datetime|tpep_dropoff_datetime|passenger_count|trip_distance|RatecodeID|store_and_fwd_flag|PULocationID|DOLocationID|payment_type|fare_amount|extra|mta_tax|tip_amount|tolls_amount|improvement_surcharge|total_amount|congestion_surcharge|Airport_fee|\n",
      "+--------+--------------------+---------------------+---------------+-------------+----------+------------------+------------+------------+------------+-----------+-----+-------+----------+------------+---------------------+------------+--------------------+-----------+\n",
      "|       1| 2025-01-01 00:18:38|  2025-01-01 00:26:59|              1|          1.6|         1|                 N|         229|         237|           1|       10.0|  3.5|    0.5|       3.0|         0.0|                  1.0|        18.0|                 2.5|        0.0|\n",
      "|       1| 2025-01-01 00:32:40|  2025-01-01 00:35:13|              1|          0.5|         1|                 N|         236|         237|           1|        5.1|  3.5|    0.5|      2.02|         0.0|                  1.0|       12.12|                 2.5|        0.0|\n",
      "|       1| 2025-01-01 00:44:04|  2025-01-01 00:46:01|              1|          0.6|         1|                 N|         141|         141|           1|        5.1|  3.5|    0.5|       2.0|         0.0|                  1.0|        12.1|                 2.5|        0.0|\n",
      "|       2| 2025-01-01 00:14:27|  2025-01-01 00:20:01|              3|         0.52|         1|                 N|         244|         244|           2|        7.2|  1.0|    0.5|       0.0|         0.0|                  1.0|         9.7|                 0.0|        0.0|\n",
      "|       2| 2025-01-01 00:21:34|  2025-01-01 00:25:06|              3|         0.66|         1|                 N|         244|         116|           2|        5.8|  1.0|    0.5|       0.0|         0.0|                  1.0|         8.3|                 0.0|        0.0|\n",
      "+--------+--------------------+---------------------+---------------+-------------+----------+------------------+------------+------------+------------+-----------+-----+-------+----------+------------+---------------------+------------+--------------------+-----------+\n",
      "only showing top 5 rows\n",
      "\n"
     ]
    },
    {
     "data": {
      "text/plain": [
       "3475226"
      ]
     },
     "execution_count": 12,
     "metadata": {},
     "output_type": "execute_result"
    }
   ],
   "source": [
    "# usar spark data_frame\n",
    "\n",
    "df = spark.read.parquet(\"yellow_tripdata_2025-01.parquet\")\n",
    "df.printSchema()\n",
    "df.show(5)\n",
    "df.count()"
   ]
  },
  {
   "cell_type": "code",
   "execution_count": 13,
   "id": "286ef842-4805-41f6-b584-b8e2fba4ba84",
   "metadata": {},
   "outputs": [],
   "source": [
    "#preprocessing step\n",
    "\n",
    "from pyspark.sql.functions import col, hour, dayofweek, unix_timestamp, when\n",
    "from pyspark.sql.types import DoubleType\n",
    "\n",
    "#eliminar linhas que tenham zeros em alguma coluna\n",
    "required_columns = [\n",
    "    \"trip_distance\", \"passenger_count\", \"tpep_pickup_datetime\", \"tpep_dropoff_datetime\", \n",
    "    \"VendorID\", \"RatecodeID\", \"store_and_fwd_flag\", \"payment_type\", \n",
    "    \"PULocationID\", \"DOLocationID\", \"fare_amount\"\n",
    "]\n",
    "\n",
    "df = df.dropna(subset=required_columns)\n",
    "\n",
    "# Convert timestamp columns to datetime and extract useful features\n",
    "df = df.withColumn(\"pickup_hour\", hour(col(\"tpep_pickup_datetime\")))\n",
    "df = df.withColumn(\"pickup_dayofweek\", dayofweek(col(\"tpep_pickup_datetime\")))\n",
    "\n",
    "# Trip duration in minutes\n",
    "df = df.withColumn(\"trip_duration\", \n",
    "                   (unix_timestamp(\"tpep_dropoff_datetime\") - unix_timestamp(\"tpep_pickup_datetime\")) / 60)\n",
    "\n",
    "# Drop rows with nulls in relevant columns\n",
    "df = df.dropna(subset=[\"fare_amount\", \"trip_distance\", \"trip_duration\", \"pickup_hour\", \"pickup_dayofweek\"])\n",
    "\n",
    "#remove situations where values may be wrong\n",
    "#negative values\n",
    "#very high fares\n",
    "df = df.filter((col(\"fare_amount\") >= 0) & (col(\"fare_amount\") <= 100))\n",
    "\n"
   ]
  },
  {
   "cell_type": "code",
   "execution_count": 14,
   "id": "ecc28892-6b18-4cd4-824a-3bf52ae3a102",
   "metadata": {},
   "outputs": [],
   "source": [
    "#feature engineering + encoding\n",
    "\n",
    "from pyspark.ml.feature import StringIndexer, OneHotEncoder, VectorAssembler\n",
    "from pyspark.ml import Pipeline\n",
    "\n",
    "# Categorical features to encode\n",
    "categorical_cols = [\"VendorID\", \"RatecodeID\", \"store_and_fwd_flag\", \"payment_type\", \"PULocationID\", \"DOLocationID\"]\n",
    "#indexers = [StringIndexer(inputCol=col, outputCol=col+\"_idx\", handleInvalid='keep') for col in categorical_cols]\n",
    "#encoders = [OneHotEncoder(inputCol=col+\"_idx\", outputCol=col+\"_ohe\") for col in categorical_cols]\n",
    "indexers = [StringIndexer(inputCol=col, outputCol=col+\"_idx\", handleInvalid='keep') for col in categorical_cols]\n",
    "encoders = [OneHotEncoder(inputCol=col+\"_idx\", outputCol=col+\"_ohe\", handleInvalid='keep') for col in categorical_cols]\n",
    "\n",
    "# Features to include\n",
    "feature_cols = [\"trip_distance\", \"passenger_count\", \"pickup_hour\", \"pickup_dayofweek\", \"trip_duration\"] + \\\n",
    "               [col+\"_ohe\" for col in categorical_cols]\n",
    "\n",
    "# Assemble features\n",
    "#assembler = VectorAssembler(inputCols=feature_cols, outputCol=\"features\")\n",
    "assembler = VectorAssembler(inputCols=feature_cols, outputCol=\"features\", handleInvalid='skip')  # or 'keep'\n",
    "\n",
    "# Create pipeline\n",
    "pipeline = Pipeline(stages=indexers + encoders + [assembler])\n",
    "pipeline_model = pipeline.fit(df)\n",
    "df_prepared = pipeline_model.transform(df)\n",
    "\n",
    "assembler_inputs = [\n",
    "    \"trip_distance\", \"passenger_count\", \"pickup_hour\", \"pickup_dayofweek\", \"trip_duration\"\n",
    "] + [col + \"_ohe\" for col in categorical_cols]\n",
    "\n",
    "df_prepared = df_prepared.dropna(subset=assembler_inputs)\n",
    "\n"
   ]
  },
  {
   "cell_type": "code",
   "execution_count": 15,
   "id": "85e71fc0-943b-4630-8e58-7473d48d31b6",
   "metadata": {},
   "outputs": [],
   "source": [
    "# train regressor model\n",
    "\n",
    "from pyspark.ml.regression import RandomForestRegressor\n",
    "from pyspark.ml.evaluation import RegressionEvaluator\n",
    "from pyspark.ml.tuning import TrainValidationSplit, ParamGridBuilder\n",
    "\n",
    "# Train/test split\n",
    "train_df, test_df = df_prepared.randomSplit([0.8, 0.2], seed=42)\n",
    "\n",
    "# Define model\n",
    "rf = RandomForestRegressor(featuresCol=\"features\", labelCol=\"fare_amount\")\n",
    "\n",
    "# Optional: tune hyperparameters\n",
    "paramGrid = ParamGridBuilder() \\\n",
    "    .addGrid(rf.maxDepth, [5, 10]) \\\n",
    "    .addGrid(rf.numTrees, [20, 50]) \\\n",
    "    .build()\n",
    "\n",
    "# TrainValidationSplit (simpler than CrossValidator)\n",
    "tvs = TrainValidationSplit(estimator=rf,\n",
    "                           estimatorParamMaps=paramGrid,\n",
    "                           evaluator=RegressionEvaluator(labelCol=\"fare_amount\", predictionCol=\"prediction\", metricName=\"rmse\"),\n",
    "                           trainRatio=0.8)\n",
    "\n",
    "model = tvs.fit(train_df)\n"
   ]
  },
  {
   "cell_type": "code",
   "execution_count": 16,
   "id": "7f118f7d-1ea2-48d4-bee2-90c9b14c9bfe",
   "metadata": {},
   "outputs": [
    {
     "name": "stdout",
     "output_type": "stream",
     "text": [
      "RMSE: 2.69\n",
      "MAE: 0.95\n",
      "R2: 0.97\n"
     ]
    }
   ],
   "source": [
    "# evaluate model\n",
    "\n",
    "# Apply model\n",
    "predictions = model.transform(test_df)\n",
    "\n",
    "# Evaluate\n",
    "evaluator = RegressionEvaluator(labelCol=\"fare_amount\", predictionCol=\"prediction\")\n",
    "\n",
    "rmse = evaluator.evaluate(predictions, {evaluator.metricName: \"rmse\"})\n",
    "mae = evaluator.evaluate(predictions, {evaluator.metricName: \"mae\"})\n",
    "r2 = evaluator.evaluate(predictions, {evaluator.metricName: \"r2\"})\n",
    "\n",
    "print(f\"RMSE: {rmse:.2f}\")\n",
    "print(f\"MAE: {mae:.2f}\")\n",
    "print(f\"R2: {r2:.2f}\")\n"
   ]
  },
  {
   "cell_type": "code",
   "execution_count": 17,
   "id": "8d3e4353-dfa3-467e-abbc-1f8619f7842a",
   "metadata": {},
   "outputs": [
    {
     "name": "stdout",
     "output_type": "stream",
     "text": [
      "+-------+------------------+\n",
      "|summary|       fare_amount|\n",
      "+-------+------------------+\n",
      "|   mean|17.681496259883115|\n",
      "|    min|               0.0|\n",
      "|    max|             100.0|\n",
      "+-------+------------------+\n",
      "\n"
     ]
    }
   ],
   "source": [
    "df.select(\"fare_amount\").summary(\"mean\", \"min\", \"max\").show()\n"
   ]
  },
  {
   "cell_type": "code",
   "execution_count": 18,
   "id": "678b581c-ded4-4c0c-8a8d-5037c6879a18",
   "metadata": {},
   "outputs": [
    {
     "data": {
      "image/png": "[encoded data removed]",
      "text/plain": [
       "<Figure size 640x480 with 1 Axes>"
      ]
     },
     "metadata": {},
     "output_type": "display_data"
    }
   ],
   "source": [
    "sample = predictions.select(\"fare_amount\", \"prediction\").sample(False, 0.01).toPandas()\n",
    "\n",
    "import matplotlib.pyplot as plt\n",
    "plt.scatter(sample[\"fare_amount\"], sample[\"prediction\"], alpha=0.3)\n",
    "plt.xlabel(\"Actual Fare\")\n",
    "plt.ylabel(\"Predicted Fare\")\n",
    "plt.title(\"Actual vs Predicted Fare\")\n",
    "plt.grid(True)\n",
    "plt.show()\n"
   ]
  },
  {
   "cell_type": "code",
   "execution_count": 19,
   "id": "bad1a005-ac72-4b6f-9879-a6539a4c0b30",
   "metadata": {},
   "outputs": [
    {
     "name": "stdout",
     "output_type": "stream",
     "text": [
      "+-------+------------------+\n",
      "|summary|       fare_amount|\n",
      "+-------+------------------+\n",
      "|    min|               0.0|\n",
      "|    max|             100.0|\n",
      "|   mean|17.681496259883115|\n",
      "| stddev| 15.67325434915379|\n",
      "+-------+------------------+\n",
      "\n"
     ]
    }
   ],
   "source": [
    "df.select(\"fare_amount\").summary(\"min\", \"max\", \"mean\", \"stddev\").show()\n"
   ]
  },
  {
   "cell_type": "code",
   "execution_count": 20,
   "id": "b9fc5d5f-00b7-47f2-b9fe-d7557ccc56b7",
   "metadata": {},
   "outputs": [
    {
     "name": "stdout",
     "output_type": "stream",
     "text": [
      "(543,[0,1,2,3,4,5,6,7,9,10,11,12,13,14,15,17,18,20,21,22,23,26,27,28,29,30,31,32,33,34,35,36,37,38,39,40,41,42,43,44,45,46,47,48,49,50,51,52,53,54,55,56,57,58,59,60,61,62,63,64,65,66,67,68,69,70,71,72,73,74,75,76,77,78,79,80,81,82,83,84,85,86,87,88,89,90,91,92,93,94,95,96,97,98,99,100,101,102,103,104,106,107,108,109,110,111,112,113,114,115,116,118,119,120,121,122,123,124,125,126,127,128,129,130,131,132,133,134,135,136,137,138,139,140,141,142,143,145,146,147,148,150,151,152,153,154,155,156,157,158,159,160,161,162,164,165,166,169,171,172,173,174,175,176,178,179,183,184,185,186,187,188,189,190,191,192,193,194,195,196,197,198,199,200,201,202,204,207,208,209,210,211,213,214,215,216,218,219,220,221,222,223,226,227,228,231,233,234,236,237,238,239,240,241,242,243,245,247,248,249,256,257,258,259,261,275,282,283,284,285,286,287,288,289,290,291,292,293,294,295,296,297,298,299,300,301,302,303,304,305,306,307,308,309,310,311,312,313,314,315,316,317,318,319,320,321,322,323,324,325,326,327,328,329,330,331,332,333,334,335,336,337,338,339,340,341,342,343,344,345,346,347,348,349,350,351,352,353,354,355,356,357,358,359,360,361,362,363,364,365,366,367,368,369,370,371,372,373,374,375,376,377,378,379,380,381,382,383,384,385,386,387,388,389,390,391,392,393,394,395,396,397,398,399,400,401,402,403,404,405,406,407,408,409,410,411,412,413,414,415,416,417,418,419,420,421,422,423,424,425,427,428,429,430,431,432,433,434,435,436,437,438,439,440,441,442,443,444,445,446,447,448,449,450,451,453,454,455,456,457,458,459,460,461,462,463,464,465,466,467,468,469,470,471,472,473,474,475,476,477,478,479,480,481,482,483,484,485,487,488,489,490,491,492,493,494,495,496,497,498,499,502,503,504,505,506,507,509,510,511,513,514,517,518,519,520,521,522,528,530,531,532,535],[0.45004075725410914,0.00010741070361148592,0.0006086991728020634,9.602812117890682e-05,0.28187156792924056,0.0010846349264640451,0.002726355036765014,8.553049555491508e-06,0.10413703714231777,0.040434357118463236,0.012265127106450186,0.013408232389341633,0.0031940316062810236,0.00038415245725768036,8.76698861922167e-06,1.885863620838619e-05,9.299394072519286e-06,0.0012781890062998345,0.0001836024504075702,7.892487472582766e-05,0.00010516986565307256,6.722526745535245e-06,9.21191229363567e-06,1.1648886992063471e-05,0.059356254064512226,1.5583345807247295e-05,2.063308606404478e-05,2.8957752433240443e-06,1.1885480583674846e-06,0.006902849741347852,8.901906655594221e-06,2.1291981004258485e-06,1.8562624676885635e-06,7.760024575494832e-07,4.444557384750707e-06,6.8376734993784e-06,6.332216895470867e-07,4.289190525105133e-06,1.989655014325529e-06,1.1353811580067617e-05,6.28036299603146e-06,7.756734608432242e-07,2.3929960993970778e-06,2.6768400190912813e-06,4.708113551858278e-06,1.2634665225738987e-06,5.156292073992194e-07,6.097705465628661e-06,1.9305628529733198e-06,4.81968737616165e-06,8.227032077984318e-06,5.723097739706339e-06,6.140468154340015e-06,2.002811857508953e-07,1.110550463538955e-06,6.728338048140655e-07,1.277032472064518e-06,1.4902390376017252e-06,9.64852414885203e-07,9.013035943395607e-07,5.564732365897699e-07,1.0024109879612772e-06,7.595462716483942e-06,1.109250123708687e-06,3.5914440724611254e-07,2.5153509234160457e-06,3.6834545730254278e-06,1.34192690912372e-06,7.740354206047862e-05,1.7078123800981878e-06,8.745273409729875e-07,1.555773732326101e-08,3.9862951644139004e-07,4.7127727664552025e-07,2.730914723933876e-07,1.5830726321613757e-07,4.6535144802009353e-08,7.063402620102222e-06,6.943356409784835e-07,1.5146442147884666e-05,4.613003424142929e-07,1.4821554449732265e-05,6.855155524050306e-08,2.222421617719173e-07,2.502524855761048e-06,3.5002526471510724e-07,1.947894634452502e-07,1.3395592282693404e-07,2.0394884741198323e-06,1.7030161346044414e-06,1.7792398987055856e-06,1.2953415889389252e-07,0.0004335834310002283,2.061724626735685e-06,7.3090999124773206e-06,2.084666850332617e-08,0.00013271226994789441,5.426293285652375e-06,1.7428356281521217e-07,3.8494707605302167e-07,5.116410306610743e-06,3.774239948558146e-06,1.3970900324694954e-08,4.656856464914475e-08,4.7548667863624144e-07,6.059167676445132e-07,3.3916198879264516e-05,2.1823213455337266e-07,4.3978001415596644e-07,5.901239870705327e-06,1.5377395240673886e-06,6.491837657886102e-07,1.0723764880098734e-06,4.534806409115138e-07,2.1593955046988253e-06,3.3167378571354254e-07,1.6621129876608055e-07,2.570365163390466e-06,4.87582019283815e-06,2.354151585706017e-07,3.3016911935508434e-05,8.315539668175899e-07,5.043248917871298e-08,1.3559398281030206e-07,4.2082233208404935e-07,1.241721828542341e-07,2.0610847475724192e-08,6.018110296708991e-06,2.1714429266496764e-08,9.241275606100083e-06,2.4791387643199405e-09,3.042283047275898e-07,9.448788365523444e-08,1.3776654967853888e-06,4.479782406592096e-06,6.549150907060843e-07,1.757645059777426e-05,5.707676463581118e-07,1.5380691292711624e-06,7.394587267670611e-07,7.617275773516099e-08,5.523451371734882e-07,9.063824885571425e-09,2.579617233762394e-06,2.6750178661117694e-07,5.9066884340668934e-08,6.521135043787295e-07,1.0821311070540173e-06,3.657828919530396e-08,8.23408877590244e-07,1.5538807276805165e-08,4.900451456472158e-08,1.3710711714411141e-05,7.679431976746434e-06,1.033046131673355e-07,6.914537990764376e-07,3.286224808522542e-07,6.167615322392644e-08,3.721277543607846e-08,6.722816879726274e-06,1.8062302987220983e-07,2.89767140273836e-07,1.0519245705806377e-09,2.129124450733196e-08,6.146112394939258e-08,5.679969865540024e-07,1.4153810552772722e-07,1.8858230705257667e-07,4.198870948179179e-08,3.55341627302285e-08,3.999735148447285e-08,2.243410345589107e-08,9.909380948493979e-07,4.6102956575055473e-07,9.729843419019127e-07,1.5995765897610437e-09,5.26199038215865e-09,1.0418423179574585e-07,4.88737265174024e-07,4.446494899522536e-07,8.199218583187853e-09,3.313113900882045e-08,5.307411056130702e-08,4.854441233836875e-09,4.5855930439626013e-07,1.4274152883151645e-07,9.849164178400296e-08,4.0026855720554135e-08,7.871149405252796e-08,2.4947599549609943e-07,3.8333590919845844e-08,1.14689853662567e-06,7.657964632318358e-07,5.991482162012583e-09,1.8277359315519854e-06,1.1840411779621053e-06,6.9122494876917115e-09,3.6513952265144077e-07,1.3670707149890042e-07,1.918821523557671e-08,5.856080535227402e-07,7.601915788421376e-08,1.306878134338476e-07,3.742676740988254e-07,7.423548226753344e-07,8.898149495542889e-07,3.2921333042286424e-08,1.961134110120164e-08,8.375125440219929e-08,8.105295424202014e-07,6.821750320814667e-05,1.658984983407011e-08,8.191606564211927e-08,2.886972871445875e-07,5.974241997312822e-08,5.126480403665946e-08,1.5808523758296658e-07,9.89538946517834e-09,2.766250290628929e-08,1.968228462604319e-08,5.307392973368543e-08,2.5905751855369787e-08,1.5138102994762272e-08,5.5017996398804895e-06,3.580885454390157e-07,5.854108644576844e-07,2.3895004727849545e-06,3.1303044917387757e-05,1.5857006417086983e-05,3.5326643471700443e-05,3.242501346784692e-06,1.3042103992102826e-06,1.088442849355557e-05,2.8187936965884644e-07,2.1745129889672445e-06,6.051842914415312e-06,2.7277196644132097e-06,4.636066564307841e-07,9.027936671599489e-07,2.7120702236987623e-06,4.35178042354487e-06,9.684857436348859e-06,7.267505303559189e-07,1.4031809037497902e-06,5.285903465258506e-06,7.770852173327872e-07,1.2129255411522968e-06,2.1389342830020484e-05,2.884614861653784e-07,6.734446925159493e-07,4.792344570523092e-07,4.789748804721497e-07,1.8216734155347212e-06,8.990495978809666e-07,3.44133643995144e-07,5.434538217162321e-08,1.3716892771792914e-06,2.786305211574161e-07,2.178807235970311e-07,8.786879513135169e-07,0.0024364633684606056,1.2738291199882772e-08,7.504701993420438e-07,3.2513930901155395e-07,0.012817363718305847,1.6564239556557158e-06,3.467560712612996e-06,3.782783249087954e-07,4.5121629447473465e-06,1.9544445830072273e-05,2.951490971763672e-05,3.5875041109014652e-06,8.780089326377702e-07,5.098809748641856e-07,5.158000237332959e-06,5.2821019403263e-07,2.754087352680347e-05,4.042427518243064e-07,2.1873805378291662e-07,5.5539187205390305e-09,8.165284016106092e-07,4.358854936334329e-06,2.541188535666779e-09,1.1469006206379728e-05,1.1366175618834922e-05,0.0006641565950384392,6.7048138074872e-05,2.6998229004263257e-05,1.4335956373969758e-07,2.5665810860149827e-05,3.988314220366067e-05,4.91593465447805e-06,9.174311540143638e-06,2.3691101347663103e-06,0.0033409661009706102,2.5850363188970237e-07,3.402122911549409e-06,3.025250977569992e-05,1.3611079131491218e-06,3.0796797309755565e-06,2.6511444220354952e-06,1.6507662970549457e-06,6.842442354732695e-07,6.644700543990426e-05,1.3187309312364654e-05,3.241252839410371e-08,1.503775907328289e-06,1.249812193674097e-05,0.000238323567783345,8.368248900814624e-07,2.4289904183262605e-05,3.095547831907105e-07,1.3868784600396731e-05,1.1991509733387038e-05,4.609002666630247e-05,6.210469785452869e-07,6.0690949694546575e-06,7.200769154218422e-07,3.1803994719679515e-06,5.28090035931363e-06,2.9090776659673227e-05,2.179972673197047e-06,1.2821118773961242e-05,3.0027050409459657e-06,1.2478588819953137e-06,1.7239572447142887e-06,4.4352300142366933e-07,1.648148742339576e-08,2.7385199129434838e-05,2.003640136009096e-06,3.642474119861152e-07,3.216051493466137e-07,1.3665964068531014e-07,3.009383963381899e-06,5.539770084663781e-07,6.59267420124536e-06,2.703189261180311e-06,5.794456164908137e-06,4.1221710205155973e-07,2.517140422090078e-06,2.9644210292352057e-08,1.899389858198243e-05,3.170946848548984e-05,8.203060400493212e-06,2.6416932322407954e-07,3.8523367510261585e-06,2.327669623811358e-06,9.58180080119347e-07,3.08953460804184e-07,6.939592888380773e-08,1.811206381188093e-07,4.539483812081932e-07,3.766137940102232e-06,5.537577960594495e-07,5.5308116760632277e-08,9.60950963101714e-06,1.1542216805928413e-05,2.2818290320405217e-08,3.0012507715792655e-07,8.320697830345428e-07,2.2956462472980517e-06,9.452533586379654e-07,1.6443415548777384e-06,9.530404917495771e-07,2.2249544452049227e-07,1.6394161326957664e-06,1.1897560336108131e-07,5.204410086974461e-06,2.5981530822183988e-06,7.594242505348132e-07,3.970920177124172e-07,4.718073330958617e-08,3.1075367069334795e-07,8.148616406925982e-07,2.0535058097695414e-06,7.973063032628565e-08,1.1170497257725761e-06,9.62547670582155e-06,1.0130495006972272e-07,6.86449358796937e-07,9.024671653099567e-07,4.663720796530037e-07,3.323263035006275e-06,6.908581963587121e-08,5.567645986085173e-08,1.2574977199291628e-07,3.998889526749984e-07,1.1420517182238845e-07,7.755572631282201e-08,1.3914276081839899e-06,1.765089667458391e-07,2.4340848788269428e-08,4.469825777134294e-08,2.8183254409594617e-07,1.7773439830097914e-08,4.016967326286758e-06,4.812692091204618e-07,2.8214120947922795e-07,9.093273279209392e-08,1.8085831373696977e-07,1.4484845331254148e-06,5.6064590555385906e-08,8.212606024722735e-06,6.236415206723164e-07,2.8520567896744674e-08,7.905066703149094e-10,4.934283534217022e-07,5.508059610324592e-08,4.5028816040706385e-07,3.657233683508938e-08,8.737093977439313e-08,1.0986403200199624e-07,1.0520304962937612e-07,1.944664015929994e-06,2.2271887905240006e-07,9.990889627938668e-08,6.539097829415307e-09,1.0064021048938026e-07,3.4644826936169984e-08,6.777203515298332e-08,2.4107938935128356e-07,1.7029277988976496e-06,3.2000753117442754e-07,4.94280926901529e-08,2.609523665663591e-06,1.4494820312299533e-08,1.261889361386313e-07,1.5646804482110656e-07,3.4685424515525664e-08,2.8503029000828583e-07,2.8607369395827264e-07,4.7680156017741764e-07,5.3383108365849905e-08,5.06334864041324e-07,1.0363177850816993e-07,3.624130792310522e-07,7.790468103727835e-10,2.610115250083589e-07,1.8003599376520608e-07,3.721034848135939e-07,2.762737134965515e-07,8.111976356107405e-07,1.661123710512547e-08,4.911336515153289e-07,1.7025884243614433e-07,1.5304493970955505e-07,2.3014464961598163e-08,1.0614840985369812e-09,1.276964605533555e-08,2.153685417435008e-05,4.6323488148931064e-08,1.4235695614600813e-07,2.3758504185956274e-07,2.2719249581013303e-08,7.820837265868642e-06,1.0008009501283545e-05,8.907143125263176e-08,7.980197051094856e-07,2.750596607531277e-08,2.2152661236014477e-07,1.8171201573048572e-07,4.271392424875959e-08,1.877473100045209e-07])\n"
     ]
    }
   ],
   "source": [
    "rf_model = model.bestModel\n",
    "print(rf_model.featureImportances)\n"
   ]
  },
  {
   "cell_type": "code",
   "execution_count": 21,
   "id": "9b0f0328-263e-4929-b24f-61e71dec2f94",
   "metadata": {},
   "outputs": [],
   "source": [
    "model.bestModel.save(\"fare_prediction_model\")\n"
   ]
  },
  {
   "cell_type": "code",
   "execution_count": 23,
   "id": "4827258a-83ea-41ec-a4d0-0049036966ef",
   "metadata": {},
   "outputs": [
    {
     "name": "stdout",
     "output_type": "stream",
     "text": [
      "Feature Importances:\n",
      "trip_distance                  0.4500\n",
      "trip_duration                  0.2819\n",
      "PULocationID_ohe               0.1041\n",
      "DOLocationID_ohe               0.0404\n",
      "RatecodeID_ohe                 0.0027\n",
      "VendorID_ohe                   0.0011\n",
      "pickup_hour                    0.0006\n",
      "passenger_count                0.0001\n",
      "pickup_dayofweek               0.0001\n",
      "store_and_fwd_flag_ohe         0.0000\n",
      "payment_type_ohe               0.0000\n"
     ]
    }
   ],
   "source": [
    "# Get trained model\n",
    "rf_model = model.bestModel\n",
    "\n",
    "# Get feature names (from VectorAssembler)\n",
    "feature_names = assembler.getInputCols()\n",
    "\n",
    "# Get importance scores\n",
    "importances = rf_model.featureImportances\n",
    "\n",
    "# Convert to readable list\n",
    "importance_list = list(zip(feature_names, importances.toArray()))\n",
    "sorted_importance = sorted(importance_list, key=lambda x: x[1], reverse=True)\n",
    "\n",
    "# Print nicely\n",
    "print(\"Feature Importances:\")\n",
    "for feature, importance in sorted_importance:\n",
    "    print(f\"{feature:<30} {importance:.4f}\")\n"
   ]
  },
  {
   "cell_type": "code",
   "execution_count": null,
   "id": "aad5175b-b4a9-4a9a-aa9e-9fbffc49da6c",
   "metadata": {},
   "outputs": [],
   "source": []
  }
 ],
 "metadata": {
  "kernelspec": {
   "display_name": "Python 3 (ipykernel)",
   "language": "python",
   "name": "python3"
  },
  "language_info": {
   "codemirror_mode": {
    "name": "ipython",
    "version": 3
   },
   "file_extension": ".py",
   "mimetype": "text/x-python",
   "name": "python",
   "nbconvert_exporter": "python",
   "pygments_lexer": "ipython3",
   "version": "3.11.6"
  }
 },
 "nbformat": 4,
 "nbformat_minor": 5
}
