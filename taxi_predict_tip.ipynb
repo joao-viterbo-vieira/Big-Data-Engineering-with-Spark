{
 "cells": [
  {
   "cell_type": "code",
   "execution_count": 1,
   "id": "284d96ac-0a0e-4ba3-823b-a45d5756457d",
   "metadata": {},
   "outputs": [],
   "source": [
    "#inicializar a sessao spark\n",
    "\n",
    "from pyspark import SparkContext, SparkConf\n",
    "from pyspark.sql import SparkSession\n",
    "\n",
    "spark = SparkSession \\\n",
    "    .builder \\\n",
    "    .master(\"local\") \\\n",
    "    .config(\"spark.ui.port\", \"4041\") \\\n",
    "    .getOrCreate()"
   ]
  },
  {
   "cell_type": "code",
   "execution_count": 2,
   "id": "32a33d61-d630-481d-a199-fd8dc828af39",
   "metadata": {},
   "outputs": [
    {
     "name": "stdout",
     "output_type": "stream",
     "text": [
      "<pyarrow._parquet.ParquetSchema object at 0x7effe264e080>\n",
      "required group field_id=-1 schema {\n",
      "  optional int32 field_id=-1 VendorID;\n",
      "  optional int64 field_id=-1 tpep_pickup_datetime (Timestamp(isAdjustedToUTC=false, timeUnit=microseconds, is_from_converted_type=false, force_set_converted_type=false));\n",
      "  optional int64 field_id=-1 tpep_dropoff_datetime (Timestamp(isAdjustedToUTC=false, timeUnit=microseconds, is_from_converted_type=false, force_set_converted_type=false));\n",
      "  optional int64 field_id=-1 passenger_count;\n",
      "  optional double field_id=-1 trip_distance;\n",
      "  optional int64 field_id=-1 RatecodeID;\n",
      "  optional binary field_id=-1 store_and_fwd_flag (String);\n",
      "  optional int32 field_id=-1 PULocationID;\n",
      "  optional int32 field_id=-1 DOLocationID;\n",
      "  optional int64 field_id=-1 payment_type;\n",
      "  optional double field_id=-1 fare_amount;\n",
      "  optional double field_id=-1 extra;\n",
      "  optional double field_id=-1 mta_tax;\n",
      "  optional double field_id=-1 tip_amount;\n",
      "  optional double field_id=-1 tolls_amount;\n",
      "  optional double field_id=-1 improvement_surcharge;\n",
      "  optional double field_id=-1 total_amount;\n",
      "  optional double field_id=-1 congestion_surcharge;\n",
      "  optional double field_id=-1 Airport_fee;\n",
      "}\n",
      "\n"
     ]
    }
   ],
   "source": [
    "# preview data\n",
    "\n",
    "import pyarrow.parquet as pq\n",
    "\n",
    "# Load the Parquet file metadata\n",
    "parquet_file = pq.ParquetFile('yellow_tripdata_2025-01.parquet')\n",
    "\n",
    "# Print schema (column names and types)\n",
    "print(parquet_file.schema)"
   ]
  },
  {
   "cell_type": "code",
   "execution_count": 3,
   "id": "7c929917-9fdc-4d8e-b5c8-d89b227ee28e",
   "metadata": {},
   "outputs": [
    {
     "name": "stdout",
     "output_type": "stream",
     "text": [
      "   VendorID tpep_pickup_datetime tpep_dropoff_datetime  passenger_count  \\\n",
      "0         1  2025-01-01 00:18:38   2025-01-01 00:26:59              1.0   \n",
      "1         1  2025-01-01 00:32:40   2025-01-01 00:35:13              1.0   \n",
      "2         1  2025-01-01 00:44:04   2025-01-01 00:46:01              1.0   \n",
      "3         2  2025-01-01 00:14:27   2025-01-01 00:20:01              3.0   \n",
      "4         2  2025-01-01 00:21:34   2025-01-01 00:25:06              3.0   \n",
      "\n",
      "   trip_distance  RatecodeID store_and_fwd_flag  PULocationID  DOLocationID  \\\n",
      "0           1.60         1.0                  N           229           237   \n",
      "1           0.50         1.0                  N           236           237   \n",
      "2           0.60         1.0                  N           141           141   \n",
      "3           0.52         1.0                  N           244           244   \n",
      "4           0.66         1.0                  N           244           116   \n",
      "\n",
      "   payment_type  fare_amount  extra  mta_tax  tip_amount  tolls_amount  \\\n",
      "0             1         10.0    3.5      0.5        3.00           0.0   \n",
      "1             1          5.1    3.5      0.5        2.02           0.0   \n",
      "2             1          5.1    3.5      0.5        2.00           0.0   \n",
      "3             2          7.2    1.0      0.5        0.00           0.0   \n",
      "4             2          5.8    1.0      0.5        0.00           0.0   \n",
      "\n",
      "   improvement_surcharge  total_amount  congestion_surcharge  Airport_fee  \n",
      "0                    1.0         18.00                   2.5          0.0  \n",
      "1                    1.0         12.12                   2.5          0.0  \n",
      "2                    1.0         12.10                   2.5          0.0  \n",
      "3                    1.0          9.70                   0.0          0.0  \n",
      "4                    1.0          8.30                   0.0          0.0  \n"
     ]
    }
   ],
   "source": [
    "import pandas as pd\n",
    "\n",
    "# Example with pyarrow or fastparquet (it will choose the engine automatically if both are available)\n",
    "df_o = pd.read_parquet('yellow_tripdata_2025-01.parquet')\n",
    "\n",
    "# If you want to explicitly specify the engine:\n",
    "# df = pd.read_parquet('your_file.parquet', engine='pyarrow')\n",
    "# df = pd.read_parquet('your_file.parquet', engine='fastparquet')\n",
    "\n",
    "print(df_o.head())\n"
   ]
  },
  {
   "cell_type": "code",
   "execution_count": 4,
   "id": "2d578a00-2c96-4d40-89d9-75d4abe08af0",
   "metadata": {},
   "outputs": [
    {
     "name": "stdout",
     "output_type": "stream",
     "text": [
      "root\n",
      " |-- VendorID: integer (nullable = true)\n",
      " |-- tpep_pickup_datetime: timestamp_ntz (nullable = true)\n",
      " |-- tpep_dropoff_datetime: timestamp_ntz (nullable = true)\n",
      " |-- passenger_count: long (nullable = true)\n",
      " |-- trip_distance: double (nullable = true)\n",
      " |-- RatecodeID: long (nullable = true)\n",
      " |-- store_and_fwd_flag: string (nullable = true)\n",
      " |-- PULocationID: integer (nullable = true)\n",
      " |-- DOLocationID: integer (nullable = true)\n",
      " |-- payment_type: long (nullable = true)\n",
      " |-- fare_amount: double (nullable = true)\n",
      " |-- extra: double (nullable = true)\n",
      " |-- mta_tax: double (nullable = true)\n",
      " |-- tip_amount: double (nullable = true)\n",
      " |-- tolls_amount: double (nullable = true)\n",
      " |-- improvement_surcharge: double (nullable = true)\n",
      " |-- total_amount: double (nullable = true)\n",
      " |-- congestion_surcharge: double (nullable = true)\n",
      " |-- Airport_fee: double (nullable = true)\n",
      "\n",
      "+--------+--------------------+---------------------+---------------+-------------+----------+------------------+------------+------------+------------+-----------+-----+-------+----------+------------+---------------------+------------+--------------------+-----------+\n",
      "|VendorID|tpep_pickup_datetime|tpep_dropoff_datetime|passenger_count|trip_distance|RatecodeID|store_and_fwd_flag|PULocationID|DOLocationID|payment_type|fare_amount|extra|mta_tax|tip_amount|tolls_amount|improvement_surcharge|total_amount|congestion_surcharge|Airport_fee|\n",
      "+--------+--------------------+---------------------+---------------+-------------+----------+------------------+------------+------------+------------+-----------+-----+-------+----------+------------+---------------------+------------+--------------------+-----------+\n",
      "|       1| 2025-01-01 00:18:38|  2025-01-01 00:26:59|              1|          1.6|         1|                 N|         229|         237|           1|       10.0|  3.5|    0.5|       3.0|         0.0|                  1.0|        18.0|                 2.5|        0.0|\n",
      "|       1| 2025-01-01 00:32:40|  2025-01-01 00:35:13|              1|          0.5|         1|                 N|         236|         237|           1|        5.1|  3.5|    0.5|      2.02|         0.0|                  1.0|       12.12|                 2.5|        0.0|\n",
      "|       1| 2025-01-01 00:44:04|  2025-01-01 00:46:01|              1|          0.6|         1|                 N|         141|         141|           1|        5.1|  3.5|    0.5|       2.0|         0.0|                  1.0|        12.1|                 2.5|        0.0|\n",
      "|       2| 2025-01-01 00:14:27|  2025-01-01 00:20:01|              3|         0.52|         1|                 N|         244|         244|           2|        7.2|  1.0|    0.5|       0.0|         0.0|                  1.0|         9.7|                 0.0|        0.0|\n",
      "|       2| 2025-01-01 00:21:34|  2025-01-01 00:25:06|              3|         0.66|         1|                 N|         244|         116|           2|        5.8|  1.0|    0.5|       0.0|         0.0|                  1.0|         8.3|                 0.0|        0.0|\n",
      "+--------+--------------------+---------------------+---------------+-------------+----------+------------------+------------+------------+------------+-----------+-----+-------+----------+------------+---------------------+------------+--------------------+-----------+\n",
      "only showing top 5 rows\n",
      "\n"
     ]
    },
    {
     "data": {
      "text/plain": [
       "3475226"
      ]
     },
     "execution_count": 4,
     "metadata": {},
     "output_type": "execute_result"
    }
   ],
   "source": [
    "# usar spark data_frame\n",
    "\n",
    "df = spark.read.parquet(\"yellow_tripdata_2025-01.parquet\")\n",
    "df.printSchema()\n",
    "df.show(5)\n",
    "df.count()"
   ]
  },
  {
   "cell_type": "code",
   "execution_count": 5,
   "id": "286ef842-4805-41f6-b584-b8e2fba4ba84",
   "metadata": {},
   "outputs": [],
   "source": [
    "#preprocessing step\n",
    "\n",
    "from pyspark.sql.functions import col, hour, dayofweek, unix_timestamp, when\n",
    "from pyspark.sql.types import DoubleType\n",
    "\n",
    "#eliminar linhas que tenham zeros em alguma coluna\n",
    "required_columns = [\n",
    "    \"trip_distance\", \"passenger_count\", \"tpep_pickup_datetime\", \"tpep_dropoff_datetime\", \n",
    "    \"VendorID\", \"RatecodeID\", \"store_and_fwd_flag\", \"payment_type\", \n",
    "    \"PULocationID\", \"DOLocationID\", \"fare_amount\"\n",
    "]\n",
    "\n",
    "df = df.dropna(subset=required_columns)\n",
    "\n",
    "# Convert timestamp columns to datetime and extract useful features\n",
    "df = df.withColumn(\"pickup_hour\", hour(col(\"tpep_pickup_datetime\")))\n",
    "df = df.withColumn(\"pickup_dayofweek\", dayofweek(col(\"tpep_pickup_datetime\")))\n",
    "\n",
    "# Trip duration in minutes\n",
    "df = df.withColumn(\"trip_duration\", \n",
    "                   (unix_timestamp(\"tpep_dropoff_datetime\") - unix_timestamp(\"tpep_pickup_datetime\")) / 60)\n",
    "\n",
    "# Drop rows with nulls in relevant columns\n",
    "df = df.dropna(subset=[\"fare_amount\", \"trip_distance\", \"trip_duration\", \"pickup_hour\", \"pickup_dayofweek\"])\n",
    "\n",
    "# Create a new feature fare_per_km\n",
    "\n",
    "df = df.withColumn(\"fare_per_km\", col(\"fare_amount\") / (col(\"trip_distance\") + 1e-3))\n",
    "\n",
    "# Create new feature - rush hour\n",
    "\n",
    "df = df.withColumn(\n",
    "    \"is_rush_hour\",\n",
    "    when(\n",
    "        ((col(\"pickup_hour\") >= 4) & (col(\"pickup_hour\") <= 5)) |\n",
    "        ((col(\"pickup_hour\") >= 16) & (col(\"pickup_hour\") <= 18)),\n",
    "        1\n",
    "    ).otherwise(0)\n",
    ")\n",
    "\n",
    "# Create new feature - is_weekend\n",
    "\n",
    "df = df.withColumn(\n",
    "    \"is_weekend\",\n",
    "    when(\n",
    "        (col(\"pickup_dayofweek\") == 1) | (col(\"pickup_dayofweek\") == 7),\n",
    "        1\n",
    "    ).otherwise(0)\n",
    ")\n",
    "\n",
    "\n",
    "#remove situations where values may be wrong\n",
    "#negative values\n",
    "#very high fares\n",
    "#df = df.filter((col(\"fare_amount\") >= 0) & (col(\"fare_amount\") <= 100))\n",
    "\n",
    "df_filtered = df.filter(\n",
    "    (col(\"fare_amount\") > 0) &\n",
    "    (col(\"fare_amount\") < 200) &\n",
    "    (col(\"trip_distance\") > 0) &\n",
    "    (col(\"tip_amount\") >= 0) &\n",
    "    (col(\"fare_per_km\") < 50)\n",
    ")\n",
    "\n"
   ]
  },
  {
   "cell_type": "code",
   "execution_count": 6,
   "id": "ecc28892-6b18-4cd4-824a-3bf52ae3a102",
   "metadata": {},
   "outputs": [],
   "source": [
    "#feature engineering + encoding\n",
    "\n",
    "from pyspark.ml.feature import StringIndexer, OneHotEncoder, VectorAssembler\n",
    "from pyspark.ml import Pipeline\n",
    "\n",
    "# Categorical features to encode\n",
    "categorical_cols = [\"VendorID\", \"RatecodeID\", \"store_and_fwd_flag\", \"payment_type\", \"PULocationID\", \"DOLocationID\"]\n",
    "#indexers = [StringIndexer(inputCol=col, outputCol=col+\"_idx\", handleInvalid='keep') for col in categorical_cols]\n",
    "#encoders = [OneHotEncoder(inputCol=col+\"_idx\", outputCol=col+\"_ohe\") for col in categorical_cols]\n",
    "indexers = [StringIndexer(inputCol=col, outputCol=col+\"_idx\", handleInvalid='keep') for col in categorical_cols]\n",
    "encoders = [OneHotEncoder(inputCol=col+\"_idx\", outputCol=col+\"_ohe\", handleInvalid='keep') for col in categorical_cols]\n",
    "\n",
    "# Features to include\n",
    "feature_cols = [\"trip_distance\", \"passenger_count\", \"fare_amount\", \"pickup_hour\", \"pickup_dayofweek\", \"trip_duration\",\"is_rush_hour\", \"is_weekend\"] + \\\n",
    "               [col+\"_ohe\" for col in categorical_cols]\n",
    "\n",
    "# Assemble features\n",
    "#assembler = VectorAssembler(inputCols=feature_cols, outputCol=\"features\")\n",
    "assembler = VectorAssembler(inputCols=feature_cols, outputCol=\"features\", handleInvalid='skip')  # or 'keep'\n",
    "\n",
    "# Create pipeline\n",
    "pipeline = Pipeline(stages=indexers + encoders + [assembler])\n",
    "pipeline_model = pipeline.fit(df_filtered)\n",
    "df_prepared = pipeline_model.transform(df_filtered)\n",
    "\n",
    "assembler_inputs = [\n",
    "    \"trip_distance\", \"passenger_count\", \"pickup_hour\", \"pickup_dayofweek\", \"trip_duration\"\n",
    "] + [col + \"_ohe\" for col in categorical_cols]\n",
    "\n",
    "df_prepared = df_prepared.dropna(subset=assembler_inputs)\n",
    "\n"
   ]
  },
  {
   "cell_type": "code",
   "execution_count": 7,
   "id": "85e71fc0-943b-4630-8e58-7473d48d31b6",
   "metadata": {},
   "outputs": [],
   "source": [
    "# train regressor model\n",
    "\n",
    "from pyspark.ml.regression import RandomForestRegressor\n",
    "from pyspark.ml.evaluation import RegressionEvaluator\n",
    "from pyspark.ml.tuning import TrainValidationSplit, ParamGridBuilder\n",
    "\n",
    "# Train/test split\n",
    "train_df, test_df = df_prepared.randomSplit([0.8, 0.2], seed=42)\n",
    "\n",
    "# Define model\n",
    "rf = RandomForestRegressor(featuresCol=\"features\", labelCol=\"tip_amount\")\n",
    "\n",
    "# Optional: tune hyperparameters\n",
    "paramGrid = ParamGridBuilder() \\\n",
    "    .addGrid(rf.maxDepth, [5,10]) \\\n",
    "    .addGrid(rf.numTrees, [20,50]) \\\n",
    "    .build()\n",
    "\n",
    "# TrainValidationSplit (simpler than CrossValidator)\n",
    "tvs = TrainValidationSplit(estimator=rf,\n",
    "                           estimatorParamMaps=paramGrid,\n",
    "                           evaluator=RegressionEvaluator(labelCol=\"tip_amount\", predictionCol=\"prediction\", metricName=\"rmse\"),\n",
    "                           trainRatio=0.8)\n",
    "\n",
    "model = tvs.fit(train_df)\n"
   ]
  },
  {
   "cell_type": "code",
   "execution_count": 8,
   "id": "7f118f7d-1ea2-48d4-bee2-90c9b14c9bfe",
   "metadata": {},
   "outputs": [
    {
     "name": "stdout",
     "output_type": "stream",
     "text": [
      "RMSE: 2.12\n",
      "MAE: 1.02\n",
      "R2: 0.68\n"
     ]
    }
   ],
   "source": [
    "# evaluate model\n",
    "\n",
    "# Apply model\n",
    "predictions = model.transform(test_df)\n",
    "\n",
    "# Evaluate\n",
    "evaluator = RegressionEvaluator(labelCol=\"tip_amount\", predictionCol=\"prediction\")\n",
    "\n",
    "rmse = evaluator.evaluate(predictions, {evaluator.metricName: \"rmse\"})\n",
    "mae = evaluator.evaluate(predictions, {evaluator.metricName: \"mae\"})\n",
    "r2 = evaluator.evaluate(predictions, {evaluator.metricName: \"r2\"})\n",
    "\n",
    "print(f\"RMSE: {rmse:.2f}\")\n",
    "print(f\"MAE: {mae:.2f}\")\n",
    "print(f\"R2: {r2:.2f}\")\n"
   ]
  },
  {
   "cell_type": "code",
   "execution_count": 9,
   "id": "8d3e4353-dfa3-467e-abbc-1f8619f7842a",
   "metadata": {},
   "outputs": [
    {
     "name": "stdout",
     "output_type": "stream",
     "text": [
      "+-------+------------------+\n",
      "|summary|        tip_amount|\n",
      "+-------+------------------+\n",
      "|   mean|3.4881408254613624|\n",
      "|    min|               0.0|\n",
      "|    max|             400.0|\n",
      "+-------+------------------+\n",
      "\n"
     ]
    }
   ],
   "source": [
    "df_filtered.select(\"tip_amount\").summary(\"mean\", \"min\", \"max\").show()\n"
   ]
  },
  {
   "cell_type": "code",
   "execution_count": 10,
   "id": "678b581c-ded4-4c0c-8a8d-5037c6879a18",
   "metadata": {},
   "outputs": [
    {
     "data": {
      "image/png": "[encoded data removed]",
      "text/plain": [
       "<Figure size 640x480 with 1 Axes>"
      ]
     },
     "metadata": {},
     "output_type": "display_data"
    }
   ],
   "source": [
    "sample = predictions.select(\"tip_amount\", \"prediction\").sample(False, 0.01).toPandas()\n",
    "\n",
    "import matplotlib.pyplot as plt\n",
    "plt.scatter(sample[\"tip_amount\"], sample[\"prediction\"], alpha=0.3)\n",
    "plt.xlabel(\"Actual Tip\")\n",
    "plt.ylabel(\"Predicted Tip\")\n",
    "plt.title(\"Actual vs Predicted Tip\")\n",
    "plt.grid(True)\n",
    "plt.show()\n"
   ]
  },
  {
   "cell_type": "code",
   "execution_count": 11,
   "id": "bad1a005-ac72-4b6f-9879-a6539a4c0b30",
   "metadata": {},
   "outputs": [
    {
     "name": "stdout",
     "output_type": "stream",
     "text": [
      "+-------+------------------+\n",
      "|summary|        tip_amount|\n",
      "+-------+------------------+\n",
      "|    min|               0.0|\n",
      "|    max|             400.0|\n",
      "|   mean|3.4881408254613624|\n",
      "| stddev|3.7523591565725205|\n",
      "+-------+------------------+\n",
      "\n"
     ]
    }
   ],
   "source": [
    "df_filtered.select(\"tip_amount\").summary(\"min\", \"max\", \"mean\", \"stddev\").show()\n"
   ]
  },
  {
   "cell_type": "code",
   "execution_count": 12,
   "id": "b9fc5d5f-00b7-47f2-b9fe-d7557ccc56b7",
   "metadata": {},
   "outputs": [
    {
     "name": "stdout",
     "output_type": "stream",
     "text": [
      "(541,[0,1,2,3,4,5,6,7,8,9,10,12,13,14,15,16,17,20,21,23,24,25,26,28,29,30,31,32,33,34,35,36,37,38,39,40,41,42,43,44,45,46,47,48,49,50,51,52,53,54,55,56,57,58,59,60,61,62,63,64,65,66,67,68,69,70,71,72,73,74,75,76,77,78,79,80,81,82,83,84,85,86,87,88,89,90,91,92,93,94,95,96,97,99,100,101,103,104,105,106,107,110,111,112,113,114,115,116,117,118,119,121,123,124,125,127,128,129,130,131,134,135,136,139,140,141,144,145,146,150,152,154,157,158,160,164,168,171,173,175,176,181,184,193,196,197,198,205,206,208,212,214,218,221,227,230,232,233,234,241,250,251,254,255,257,261,280,281,282,283,284,285,286,287,288,289,290,291,292,293,294,295,296,297,298,299,300,301,302,303,304,305,306,307,308,309,310,311,312,313,314,315,316,317,318,319,320,321,322,323,324,325,326,327,328,329,330,331,332,333,334,335,336,337,338,339,340,342,343,344,345,346,347,348,349,350,351,352,353,354,355,356,357,358,359,360,361,362,363,364,365,366,367,368,369,370,371,372,373,374,375,376,377,378,379,380,381,382,383,384,385,386,387,388,389,390,392,393,394,395,396,399,401,402,403,404,405,406,407,408,409,410,411,414,415,416,417,419,420,421,424,425,427,428,429,430,431,432,433,434,435,436,437,438,439,441,442,443,444,445,446,447,449,451,452,453,455,456,457,458,462,463,464,469,473,474,475,476,478,479,483,484,486,488,490,493,494,495,502,503,506,510,512,514,517,521,535],[0.14043954743215392,0.0004760232180340922,0.3051814656411028,0.0029343173823454,0.00045919656270018006,0.1083274598391813,0.0004749998249579804,0.000290641165463201,0.0026191817449238244,0.0024628751429227047,1.8645996534389408e-06,0.015814455575891007,0.027033605061745573,0.05975091452934002,0.0005978989508927867,0.00264344012436041,0.001297660681068645,5.659322464373528e-06,1.1706355119127253e-06,0.17235957220371415,0.11673662093287294,0.008320349313100396,0.0011236646564170313,1.9951312843827426e-06,6.743971456944847e-05,1.2099222883469633e-05,0.005956344375967584,2.0667140641056415e-05,3.240999780388437e-05,6.220075641990546e-06,4.698141322847646e-05,0.009789836428932844,3.0395745922397315e-05,2.64188288434462e-06,7.15315145982915e-06,0.00012716380531730613,7.1323160923864645e-06,2.7678846649127778e-05,1.8082846389923794e-06,2.0338038874241822e-05,1.1640334075324296e-05,2.463262478985511e-06,6.825638423000419e-06,6.4477826766443555e-06,5.1033444041390265e-06,4.255062745762344e-06,8.024113142191503e-06,8.906784720715698e-06,6.325137922354951e-06,2.529313264075928e-05,1.3923105478905241e-05,2.5090837276659716e-05,2.146227107712063e-06,2.464632296650749e-05,3.480534119096471e-05,3.1810899570107724e-06,2.8096243155329654e-06,6.862465313196825e-06,2.798425233315058e-06,3.820000731031315e-06,2.980384723677873e-06,6.528766421278729e-06,7.659436559029257e-07,9.071864154846264e-06,5.213509296887266e-06,1.7812299073948158e-05,1.4273854644491164e-05,2.016875407956715e-05,4.0516714466089e-06,1.4980434789735191e-05,0.00021968618443208305,3.511118697052287e-05,3.3010745280474925e-05,5.9741449947701576e-06,1.671414458311024e-06,3.693226580268733e-06,1.4283195392185966e-07,2.139973619662558e-06,1.590105065330275e-06,7.64605630017854e-05,0.0008207556768284495,2.693528514582877e-06,2.1661368541080528e-05,2.292159738369447e-07,1.282602732747383e-06,1.8220513664328243e-07,3.664096883279011e-06,2.7388060756211313e-07,2.106355545333292e-07,4.6505382402267996e-05,3.6988846229203795e-05,9.569049703258506e-08,1.743207101670167e-05,1.179890604557846e-06,3.105951408486181e-05,2.8158373876609746e-05,1.558228326676479e-07,1.206851254354841e-05,8.682704957746027e-06,3.7484091670830917e-06,2.634268737365679e-06,4.060625892062509e-07,2.259840539945889e-05,2.8782777317286976e-06,1.0788735073856236e-07,8.6053217700001e-08,5.7798707687593325e-05,1.8956016470203408e-05,9.058176239511944e-08,5.668053439580042e-06,1.8840338632040475e-05,2.3134902740663e-05,4.814786053639155e-05,0.0001951931070811472,1.3685056321931225e-06,7.207276270390791e-05,2.311141111489547e-05,1.851060013144734e-05,3.4768639042157505e-05,2.2298876217857314e-06,3.628492248975552e-05,7.206429933431765e-08,2.3226482204068477e-06,3.9972685603243593e-07,1.0192327568884547e-05,4.0914528797275255e-06,7.984649707358484e-06,4.423210664850449e-05,2.1886495940891426e-05,5.158750676537632e-05,2.6039215317358214e-06,1.1736080125644896e-05,4.532736035319246e-07,9.015813076986535e-07,1.0532906007730557e-07,2.511904279868507e-07,1.778054461566144e-05,1.753548103620478e-07,3.694299830289247e-07,1.9117107542056614e-06,1.4124131533100201e-05,4.079206002068922e-07,1.5545962372791976e-05,2.987306237468059e-06,1.4648589124739429e-05,7.147004368055743e-07,1.719553403260303e-05,5.797844404615508e-07,1.1141099060765317e-06,1.3905431293794641e-06,1.2089148317835395e-05,1.2346116609762064e-07,6.261259973418551e-07,9.08014011729203e-07,1.6218532513597343e-06,6.916079923775168e-06,1.7218456247543363e-06,3.518003606356883e-05,7.235158731245777e-08,1.1397972986451778e-06,1.3278464231212904e-06,2.1376066364733188e-08,6.443210148394058e-05,3.846795651636179e-06,1.8171441804920255e-06,4.088693587715546e-05,3.007615449621606e-06,1.8359527450180298e-06,4.490974835838391e-05,6.859302585991764e-05,0.0001641213456859617,5.962170294382998e-06,1.9637101573865694e-05,4.0286076691779324e-06,4.615497372901923e-06,1.312963183715221e-06,8.156860811060951e-07,8.13709285972465e-06,4.247588435043714e-06,1.2153347460164716e-05,1.6618978795179166e-06,3.4087836042634045e-06,6.62882109101311e-06,1.4947297624047477e-05,1.1868551993310499e-05,1.165763596091001e-06,2.37134954654615e-06,2.6316651909254376e-06,7.764017226152749e-06,3.7138958467969654e-06,1.7606042345734335e-06,3.297245019123032e-06,2.6603409623688883e-06,1.0345666508599781e-05,2.4768504200566386e-06,1.9968867608693575e-07,1.2954942032138961e-06,6.1166317210366445e-06,1.0609166145194487e-06,1.806938912168903e-07,1.2010940627167157e-05,0.0025727566674390357,1.3550994897581598e-06,2.154907731607458e-06,1.937472548248776e-05,1.956174730900152e-05,6.158047521039286e-06,0.0011883672639055646,6.17358584710445e-06,5.228748907606996e-06,4.973176881674114e-06,0.00016272123246605894,1.4991175634756825e-06,3.0164452345839733e-07,4.060175786918867e-06,3.0667569845773964e-06,1.665481563452256e-08,1.0729638470715887e-06,1.2056589883975503e-06,0.0011777195685156,1.33595481547409e-06,1.3084693188732755e-05,1.2197529199163477e-06,8.955511481297198e-07,9.797250075319984e-07,2.8692362287691328e-05,8.678934189157123e-06,2.0884722781088217e-05,0.0024659428176704375,7.462615683748306e-05,3.547537588097268e-05,2.252009898897762e-05,8.240653222743285e-06,4.284977887173312e-05,1.5175746194776671e-05,2.6815978734897478e-06,8.75161573848966e-06,5.290930711819824e-06,1.387692937648053e-05,4.5832795474242077e-07,3.4852204904595587e-06,1.76245844331765e-06,5.354549318382955e-06,2.018287695682716e-06,2.9955442774416412e-06,2.6925919464038675e-06,8.626974841115317e-06,1.1521694683894505e-05,1.941290767119163e-05,0.0007853072692617932,4.983497597062094e-07,3.1396053474964246e-05,1.0793443699795358e-05,1.4279410116146145e-05,4.192101896804265e-06,6.703340975488238e-07,2.8497581044765508e-06,5.070790583026228e-06,4.254034612112254e-06,0.00018856576715219842,1.4421626432227681e-05,0.0003444968282822436,3.411263855627512e-06,1.861502553026677e-06,3.4316077732668326e-05,2.6610721625676013e-06,1.0465716022564186e-05,3.9315021278244106e-06,2.711047680795106e-06,3.0575914654541503e-06,4.542671858343885e-06,3.130484168501305e-06,2.0606140925525395e-05,3.258592929169845e-06,1.050411628573174e-05,3.8790555744641326e-05,1.1750557754350847e-05,2.596716079517054e-07,4.5191454536341186e-07,1.2422395009371462e-05,3.510357837996774e-05,7.329931446154672e-07,1.6180261965678013e-06,1.0092878968567252e-05,3.530133614222618e-06,3.6777033710126376e-07,2.2042923669463158e-07,6.126711064685715e-07,5.971772501104573e-06,7.659239631910628e-07,6.250851762358984e-05,7.227325175523891e-09,8.751871985979981e-07,1.8824959294944118e-06,3.2397315250323806e-05,1.1794761144928108e-06,1.5518902968644965e-06,2.6903303412215353e-06,2.0104678013894285e-06,1.1852196143012728e-05,4.267468967700389e-05,4.40325803302523e-07,3.831453502835959e-06,8.200297993164969e-06,5.217584015002217e-06,2.6211238333278315e-06,2.9025015192368515e-07,4.03123583013166e-06,1.195504403114479e-06,5.063830706816995e-08,7.333227800935494e-07,7.2401567424673264e-06,1.8829406335072583e-05,3.829014354153002e-07,9.344345031100215e-07,0.00012935780716568585,7.282952286410738e-07,1.4447452914572118e-06,1.2371116953731897e-05,3.20522814037735e-07,9.603087505917152e-06,8.446956103428587e-07,6.526645722206827e-07,2.113348265830129e-06,1.1498922280920125e-06,2.7967251886455015e-06,1.5507863763496154e-06,7.97932849942064e-06,2.579630853909975e-07,1.722961354978785e-06,4.0154426290036927e-07,1.9602585918020584e-06,4.532042752885179e-07,2.4024100695496486e-06,8.749472666833006e-06,2.977081118121184e-07,1.21800058031021e-07,6.998487453470499e-08,9.88728889529032e-07,1.5691643060683725e-07,8.14662181502523e-07,3.810388022320765e-07,6.444375587293913e-06,0.001249236692679807,7.771814754970178e-07,8.835046133195278e-07,2.643165895848063e-07,4.122747085001205e-06,6.906086183756032e-08,5.750676517937278e-07,3.7084146317526038e-06,6.068964038895478e-07,3.651887809545776e-06,7.54961560054763e-07,3.694568021105481e-06,4.324200679432772e-06,1.378071769332014e-06])\n"
     ]
    }
   ],
   "source": [
    "rf_model = model.bestModel\n",
    "print(rf_model.featureImportances)\n"
   ]
  },
  {
   "cell_type": "code",
   "execution_count": 13,
   "id": "9b0f0328-263e-4929-b24f-61e71dec2f94",
   "metadata": {},
   "outputs": [],
   "source": [
    "model.bestModel.save(\"tip_prediction_model\")\n"
   ]
  },
  {
   "cell_type": "code",
   "execution_count": 14,
   "id": "4827258a-83ea-41ec-a4d0-0049036966ef",
   "metadata": {},
   "outputs": [
    {
     "name": "stdout",
     "output_type": "stream",
     "text": [
      "Feature Importances:\n",
      "fare_amount                    0.3052\n",
      "trip_distance                  0.1404\n",
      "trip_duration                  0.1083\n",
      "DOLocationID_ohe               0.0270\n",
      "PULocationID_ohe               0.0158\n",
      "pickup_hour                    0.0029\n",
      "VendorID_ohe                   0.0026\n",
      "RatecodeID_ohe                 0.0025\n",
      "passenger_count                0.0005\n",
      "is_rush_hour                   0.0005\n",
      "pickup_dayofweek               0.0005\n",
      "is_weekend                     0.0003\n",
      "store_and_fwd_flag_ohe         0.0000\n",
      "payment_type_ohe               0.0000\n"
     ]
    }
   ],
   "source": [
    "# Get trained model\n",
    "rf_model = model.bestModel\n",
    "\n",
    "# Get feature names (from VectorAssembler)\n",
    "feature_names = assembler.getInputCols()\n",
    "\n",
    "# Get importance scores\n",
    "importances = rf_model.featureImportances\n",
    "\n",
    "# Convert to readable list\n",
    "importance_list = list(zip(feature_names, importances.toArray()))\n",
    "sorted_importance = sorted(importance_list, key=lambda x: x[1], reverse=True)\n",
    "\n",
    "# Print nicely\n",
    "print(\"Feature Importances:\")\n",
    "for feature, importance in sorted_importance:\n",
    "    print(f\"{feature:<30} {importance:.4f}\")\n"
   ]
  },
  {
   "cell_type": "code",
   "execution_count": 15,
   "id": "aad5175b-b4a9-4a9a-aa9e-9fbffc49da6c",
   "metadata": {},
   "outputs": [],
   "source": [
    "#close spark session\n",
    "\n",
    "#spark.stop()"
   ]
  },
  {
   "cell_type": "code",
   "execution_count": null,
   "id": "4285cf58-6a1a-4c88-8e44-76569447788b",
   "metadata": {},
   "outputs": [],
   "source": []
  }
 ],
 "metadata": {
  "kernelspec": {
   "display_name": "Python 3",
   "language": "python",
   "name": "python3"
  },
  "language_info": {
   "codemirror_mode": {
    "name": "ipython",
    "version": 3
   },
   "file_extension": ".py",
   "mimetype": "text/x-python",
   "name": "python",
   "nbconvert_exporter": "python",
   "pygments_lexer": "ipython3",
   "version": "3.11.12"
  }
 },
 "nbformat": 4,
 "nbformat_minor": 5
}
